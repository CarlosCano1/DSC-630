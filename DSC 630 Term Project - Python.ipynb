{
 "cells": [
  {
   "cell_type": "markdown",
   "id": "136f7bb3",
   "metadata": {},
   "source": [
    "# DSC 630 - Term Project\n",
    "# Carlos Cano, Carlos Cantu, Alexander Hamedaninia\n"
   ]
  },
  {
   "cell_type": "markdown",
   "id": "c7b9ec4ab0ea9af4",
   "metadata": {},
   "source": [
    "The Diabetes prediction dataset provides a valuable opportunity to leverage machine learning techniques for predicting diabetes based on patients' medical and demographic information"
   ]
  },
  {
   "cell_type": "markdown",
   "id": "cfc579ef",
   "metadata": {},
   "source": [
    "### Import Libraries"
   ]
  },
  {
   "cell_type": "code",
   "execution_count": 1,
   "id": "ea43c6ad",
   "metadata": {
    "ExecuteTime": {
     "end_time": "2024-01-27T20:28:45.130901Z",
     "start_time": "2024-01-27T20:28:45.024780Z"
    }
   },
   "outputs": [],
   "source": [
    "import numpy as np\n",
    "import pandas as pd\n",
    "\n",
    "import matplotlib.pyplot as plt"
   ]
  },
  {
   "cell_type": "code",
   "execution_count": 2,
   "id": "73e8aff4",
   "metadata": {
    "ExecuteTime": {
     "end_time": "2024-01-27T20:28:45.146306Z",
     "start_time": "2024-01-27T20:28:45.133935Z"
    }
   },
   "outputs": [],
   "source": [
    "from sklearn.model_selection import train_test_split\n",
    "from sklearn.pipeline import Pipeline\n",
    "from sklearn.preprocessing import MinMaxScaler\n",
    "from sklearn.neighbors import KNeighborsClassifier\n",
    "from sklearn.model_selection import GridSearchCV\n",
    "from sklearn.linear_model import LogisticRegression\n",
    "from sklearn.ensemble import RandomForestClassifier"
   ]
  },
  {
   "cell_type": "code",
   "execution_count": 3,
   "id": "22b822c2",
   "metadata": {
    "ExecuteTime": {
     "end_time": "2024-01-27T20:28:45.158919Z",
     "start_time": "2024-01-27T20:28:45.146917Z"
    }
   },
   "outputs": [],
   "source": [
    "from sklearn import linear_model\n",
    "import statsmodels.api as sm\n",
    "from scipy.stats import norm\n"
   ]
  },
  {
   "cell_type": "markdown",
   "id": "cca45e0e",
   "metadata": {},
   "source": [
    "# Data "
   ]
  },
  {
   "cell_type": "markdown",
   "id": "9c245b62b94b0eba",
   "metadata": {},
   "source": [
    "The Diabetes prediction dataset encompasses a diverse set of features, including age, gender, BMI, hypertension, heart disease, smoking history, HbA1c level, and blood glucose level. These features offer a comprehensive view of patients' health profiles, making it an ideal dataset for developing predictive models. The ultimate goal is to assist healthcare professionals in identifying individuals at risk of diabetes and to contribute to the development of personalized treatment plans."
   ]
  },
  {
   "cell_type": "markdown",
   "id": "8410a2c0f877c3a4",
   "metadata": {},
   "source": [
    "## Data Import "
   ]
  },
  {
   "cell_type": "code",
   "execution_count": 4,
   "id": "1d45bb65",
   "metadata": {
    "ExecuteTime": {
     "end_time": "2024-01-27T20:28:45.226325Z",
     "start_time": "2024-01-27T20:28:45.151281Z"
    }
   },
   "outputs": [
    {
     "data": {
      "text/html": [
       "<div>\n",
       "<style scoped>\n",
       "    .dataframe tbody tr th:only-of-type {\n",
       "        vertical-align: middle;\n",
       "    }\n",
       "\n",
       "    .dataframe tbody tr th {\n",
       "        vertical-align: top;\n",
       "    }\n",
       "\n",
       "    .dataframe thead th {\n",
       "        text-align: right;\n",
       "    }\n",
       "</style>\n",
       "<table border=\"1\" class=\"dataframe\">\n",
       "  <thead>\n",
       "    <tr style=\"text-align: right;\">\n",
       "      <th></th>\n",
       "      <th>gender</th>\n",
       "      <th>age</th>\n",
       "      <th>hypertension</th>\n",
       "      <th>heart_disease</th>\n",
       "      <th>smoking_history</th>\n",
       "      <th>bmi</th>\n",
       "      <th>HbA1c_level</th>\n",
       "      <th>blood_glucose_level</th>\n",
       "      <th>diabetes</th>\n",
       "    </tr>\n",
       "  </thead>\n",
       "  <tbody>\n",
       "    <tr>\n",
       "      <th>0</th>\n",
       "      <td>Female</td>\n",
       "      <td>80.0</td>\n",
       "      <td>0</td>\n",
       "      <td>1</td>\n",
       "      <td>never</td>\n",
       "      <td>25.19</td>\n",
       "      <td>6.6</td>\n",
       "      <td>140</td>\n",
       "      <td>0</td>\n",
       "    </tr>\n",
       "    <tr>\n",
       "      <th>1</th>\n",
       "      <td>Female</td>\n",
       "      <td>54.0</td>\n",
       "      <td>0</td>\n",
       "      <td>0</td>\n",
       "      <td>No Info</td>\n",
       "      <td>27.32</td>\n",
       "      <td>6.6</td>\n",
       "      <td>80</td>\n",
       "      <td>0</td>\n",
       "    </tr>\n",
       "    <tr>\n",
       "      <th>2</th>\n",
       "      <td>Male</td>\n",
       "      <td>28.0</td>\n",
       "      <td>0</td>\n",
       "      <td>0</td>\n",
       "      <td>never</td>\n",
       "      <td>27.32</td>\n",
       "      <td>5.7</td>\n",
       "      <td>158</td>\n",
       "      <td>0</td>\n",
       "    </tr>\n",
       "    <tr>\n",
       "      <th>3</th>\n",
       "      <td>Female</td>\n",
       "      <td>36.0</td>\n",
       "      <td>0</td>\n",
       "      <td>0</td>\n",
       "      <td>current</td>\n",
       "      <td>23.45</td>\n",
       "      <td>5.0</td>\n",
       "      <td>155</td>\n",
       "      <td>0</td>\n",
       "    </tr>\n",
       "    <tr>\n",
       "      <th>4</th>\n",
       "      <td>Male</td>\n",
       "      <td>76.0</td>\n",
       "      <td>1</td>\n",
       "      <td>1</td>\n",
       "      <td>current</td>\n",
       "      <td>20.14</td>\n",
       "      <td>4.8</td>\n",
       "      <td>155</td>\n",
       "      <td>0</td>\n",
       "    </tr>\n",
       "    <tr>\n",
       "      <th>...</th>\n",
       "      <td>...</td>\n",
       "      <td>...</td>\n",
       "      <td>...</td>\n",
       "      <td>...</td>\n",
       "      <td>...</td>\n",
       "      <td>...</td>\n",
       "      <td>...</td>\n",
       "      <td>...</td>\n",
       "      <td>...</td>\n",
       "    </tr>\n",
       "    <tr>\n",
       "      <th>99995</th>\n",
       "      <td>Female</td>\n",
       "      <td>80.0</td>\n",
       "      <td>0</td>\n",
       "      <td>0</td>\n",
       "      <td>No Info</td>\n",
       "      <td>27.32</td>\n",
       "      <td>6.2</td>\n",
       "      <td>90</td>\n",
       "      <td>0</td>\n",
       "    </tr>\n",
       "    <tr>\n",
       "      <th>99996</th>\n",
       "      <td>Female</td>\n",
       "      <td>2.0</td>\n",
       "      <td>0</td>\n",
       "      <td>0</td>\n",
       "      <td>No Info</td>\n",
       "      <td>17.37</td>\n",
       "      <td>6.5</td>\n",
       "      <td>100</td>\n",
       "      <td>0</td>\n",
       "    </tr>\n",
       "    <tr>\n",
       "      <th>99997</th>\n",
       "      <td>Male</td>\n",
       "      <td>66.0</td>\n",
       "      <td>0</td>\n",
       "      <td>0</td>\n",
       "      <td>former</td>\n",
       "      <td>27.83</td>\n",
       "      <td>5.7</td>\n",
       "      <td>155</td>\n",
       "      <td>0</td>\n",
       "    </tr>\n",
       "    <tr>\n",
       "      <th>99998</th>\n",
       "      <td>Female</td>\n",
       "      <td>24.0</td>\n",
       "      <td>0</td>\n",
       "      <td>0</td>\n",
       "      <td>never</td>\n",
       "      <td>35.42</td>\n",
       "      <td>4.0</td>\n",
       "      <td>100</td>\n",
       "      <td>0</td>\n",
       "    </tr>\n",
       "    <tr>\n",
       "      <th>99999</th>\n",
       "      <td>Female</td>\n",
       "      <td>57.0</td>\n",
       "      <td>0</td>\n",
       "      <td>0</td>\n",
       "      <td>current</td>\n",
       "      <td>22.43</td>\n",
       "      <td>6.6</td>\n",
       "      <td>90</td>\n",
       "      <td>0</td>\n",
       "    </tr>\n",
       "  </tbody>\n",
       "</table>\n",
       "<p>100000 rows × 9 columns</p>\n",
       "</div>"
      ],
      "text/plain": [
       "       gender   age  hypertension  heart_disease smoking_history    bmi  \\\n",
       "0      Female  80.0             0              1           never  25.19   \n",
       "1      Female  54.0             0              0         No Info  27.32   \n",
       "2        Male  28.0             0              0           never  27.32   \n",
       "3      Female  36.0             0              0         current  23.45   \n",
       "4        Male  76.0             1              1         current  20.14   \n",
       "...       ...   ...           ...            ...             ...    ...   \n",
       "99995  Female  80.0             0              0         No Info  27.32   \n",
       "99996  Female   2.0             0              0         No Info  17.37   \n",
       "99997    Male  66.0             0              0          former  27.83   \n",
       "99998  Female  24.0             0              0           never  35.42   \n",
       "99999  Female  57.0             0              0         current  22.43   \n",
       "\n",
       "       HbA1c_level  blood_glucose_level  diabetes  \n",
       "0              6.6                  140         0  \n",
       "1              6.6                   80         0  \n",
       "2              5.7                  158         0  \n",
       "3              5.0                  155         0  \n",
       "4              4.8                  155         0  \n",
       "...            ...                  ...       ...  \n",
       "99995          6.2                   90         0  \n",
       "99996          6.5                  100         0  \n",
       "99997          5.7                  155         0  \n",
       "99998          4.0                  100         0  \n",
       "99999          6.6                   90         0  \n",
       "\n",
       "[100000 rows x 9 columns]"
      ]
     },
     "execution_count": 4,
     "metadata": {},
     "output_type": "execute_result"
    }
   ],
   "source": [
    "df = pd.read_csv(\"Diabetes Dataset.csv\")\n",
    "df"
   ]
  },
  {
   "cell_type": "markdown",
   "id": "3479ea3dc6cab725",
   "metadata": {},
   "source": [
    "# Exploratory Graphical Analysis"
   ]
  },
  {
   "cell_type": "markdown",
   "id": "90b74c2e",
   "metadata": {},
   "source": [
    "## Age Distribution "
   ]
  },
  {
   "cell_type": "code",
   "execution_count": 5,
   "id": "7d425c30",
   "metadata": {
    "ExecuteTime": {
     "end_time": "2024-01-27T20:28:45.342781Z",
     "start_time": "2024-01-27T20:28:45.233345Z"
    }
   },
   "outputs": [
    {
     "data": {
      "image/png": "[encoded data removed]",
      "text/plain": [
       "<Figure size 640x480 with 1 Axes>"
      ]
     },
     "metadata": {},
     "output_type": "display_data"
    },
    {
     "data": {
      "text/plain": [
       "count    100000.000000\n",
       "mean         41.885856\n",
       "std          22.516840\n",
       "min           0.080000\n",
       "25%          24.000000\n",
       "50%          43.000000\n",
       "75%          60.000000\n",
       "max          80.000000\n",
       "Name: age, dtype: float64"
      ]
     },
     "execution_count": 5,
     "metadata": {},
     "output_type": "execute_result"
    }
   ],
   "source": [
    "plt.hist(df['age'], bins=10, color='skyblue', edgecolor='black')\n",
    " \n",
    "plt.xlabel('Age')\n",
    "plt.ylabel('Frequency')\n",
    "plt.title('Age Distribution')\n",
    " \n",
    "plt.show()\n",
    "df['age'].describe()"
   ]
  },
  {
   "cell_type": "markdown",
   "id": "9fb81a5dbbb61781",
   "metadata": {},
   "source": [
    "We can see an average age of approximately 41.89 years and a standard deviation of about 22.52, highlighting variability. Ranging ages from 0.08 to 80 years, the data suggests a slightly positively skewed distribution, with 25%, 50%, and 75% of individuals below the ages of 24, 43, and 60. The presence of outliers is implied by the minimum and maximum age values. The majority of individuals fall within the 24 to 60-year age range, reflecting a diverse spread of ages."
   ]
  },
  {
   "cell_type": "markdown",
   "id": "9e009705",
   "metadata": {},
   "source": [
    "## Gender Comparison  "
   ]
  },
  {
   "cell_type": "code",
   "execution_count": 6,
   "id": "18afd1cf",
   "metadata": {
    "ExecuteTime": {
     "end_time": "2024-01-27T20:28:45.359153Z",
     "start_time": "2024-01-27T20:28:45.298678Z"
    }
   },
   "outputs": [
    {
     "data": {
      "image/png": "[encoded data removed]",
      "text/plain": [
       "<Figure size 640x480 with 1 Axes>"
      ]
     },
     "metadata": {},
     "output_type": "display_data"
    }
   ],
   "source": [
    "plt.hist(df['gender'], bins=5, color='green', edgecolor='black')\n",
    " \n",
    "plt.xlabel('Gender')\n",
    "plt.ylabel('Frequency')\n",
    "plt.title('Gender Distribution')\n",
    " \n",
    "plt.show()"
   ]
  },
  {
   "cell_type": "markdown",
   "id": "603b326486648f25",
   "metadata": {},
   "source": [
    "A trend emerges from the dataset,  a pronounced representation of females compared to males. With nearly 60,000 instances attributed to females and approximately 40,000 to males, the data underscores a substantial gender disparity favoring females."
   ]
  },
  {
   "cell_type": "markdown",
   "id": "69fa7711887efeab",
   "metadata": {},
   "source": [
    "## Body Mass Index Distribution"
   ]
  },
  {
   "cell_type": "code",
   "execution_count": 7,
   "id": "90c99d0f",
   "metadata": {
    "ExecuteTime": {
     "end_time": "2024-01-27T20:28:45.415349Z",
     "start_time": "2024-01-27T20:28:45.360035Z"
    }
   },
   "outputs": [
    {
     "data": {
      "image/png": "[encoded data removed]",
      "text/plain": [
       "<Figure size 640x480 with 1 Axes>"
      ]
     },
     "metadata": {},
     "output_type": "display_data"
    },
    {
     "data": {
      "text/plain": [
       "count    100000.000000\n",
       "mean         27.320767\n",
       "std           6.636783\n",
       "min          10.010000\n",
       "25%          23.630000\n",
       "50%          27.320000\n",
       "75%          29.580000\n",
       "max          95.690000\n",
       "Name: bmi, dtype: float64"
      ]
     },
     "execution_count": 7,
     "metadata": {},
     "output_type": "execute_result"
    }
   ],
   "source": [
    "plt.hist(df['bmi'], bins=5, color='red', edgecolor='black')\n",
    " \n",
    "plt.xlabel('BMI')\n",
    "plt.ylabel('Frequency')\n",
    "plt.title('BMI Distribution')\n",
    " \n",
    "plt.show()\n",
    "df['bmi'].describe()"
   ]
  },
  {
   "cell_type": "markdown",
   "id": "3132226641c439b1",
   "metadata": {},
   "source": [
    "The observed mean BMI of approximately 27.32 indicates that, on average, patients in the dataset fall within the overweight category (BMI 25–29.9). This finding suggests a notable prevalence of overweight individuals among the patient population. Moreover, considering that the dataset likely skews towards overweight and obese patients, there may be an elevated risk factor for conditions such as diabetes, which is often associated with higher BMI values. Patients within the overweight and obese BMI ranges are known to have increased susceptibility to diabetes, among other health complications."
   ]
  },
  {
   "cell_type": "markdown",
   "id": "6b3195b1",
   "metadata": {},
   "source": [
    "# Data Review and Exploration "
   ]
  },
  {
   "cell_type": "markdown",
   "id": "3bc410f5e17ca020",
   "metadata": {},
   "source": [
    "## Missing Data Review\n"
   ]
  },
  {
   "cell_type": "markdown",
   "id": "ab5b19d242f14944",
   "metadata": {},
   "source": [
    "This is a preliminary review conducted for our data exploration and preprocessing phase aimed at identifying any missing data or null values within the diabetes dataset. The purpose is to ensure data integrity and readiness for subsequent analyses or model training.\n"
   ]
  },
  {
   "cell_type": "code",
   "execution_count": 8,
   "id": "268ecbc643403cde",
   "metadata": {
    "ExecuteTime": {
     "end_time": "2024-01-27T20:28:45.432893Z",
     "start_time": "2024-01-27T20:28:45.409053Z"
    },
    "collapsed": false,
    "jupyter": {
     "outputs_hidden": false
    }
   },
   "outputs": [
    {
     "name": "stdout",
     "output_type": "stream",
     "text": [
      "gender                 0\n",
      "age                    0\n",
      "hypertension           0\n",
      "heart_disease          0\n",
      "smoking_history        0\n",
      "bmi                    0\n",
      "HbA1c_level            0\n",
      "blood_glucose_level    0\n",
      "diabetes               0\n",
      "dtype: int64\n"
     ]
    }
   ],
   "source": [
    "diabetes_nan = df.isna().sum()\n",
    "\n",
    "print(diabetes_nan)"
   ]
  },
  {
   "cell_type": "markdown",
   "id": "eab9c64dbed1c526",
   "metadata": {},
   "source": [
    "## Descriptive Statistics "
   ]
  },
  {
   "cell_type": "markdown",
   "id": "f66274a6d260728f",
   "metadata": {},
   "source": [
    "While we conducted some descriptive statistics during our graphical exploration, performing a comprehensive analysis of the entire dataset can yield valuable insights. This function serves as a rapid check for the diabetes data integrity, revealing missing values and pinpointing outliers that could impact our modeling endeavors. It also facilitates data cleaning, preprocessing, and initial exploration tasks, enhancing the overall understanding of the dataset's characteristics and informing subsequent decisions."
   ]
  },
  {
   "cell_type": "code",
   "execution_count": 9,
   "id": "b68ee5fc",
   "metadata": {
    "ExecuteTime": {
     "end_time": "2024-01-27T20:28:45.484894Z",
     "start_time": "2024-01-27T20:28:45.431016Z"
    }
   },
   "outputs": [
    {
     "data": {
      "text/html": [
       "<div>\n",
       "<style scoped>\n",
       "    .dataframe tbody tr th:only-of-type {\n",
       "        vertical-align: middle;\n",
       "    }\n",
       "\n",
       "    .dataframe tbody tr th {\n",
       "        vertical-align: top;\n",
       "    }\n",
       "\n",
       "    .dataframe thead th {\n",
       "        text-align: right;\n",
       "    }\n",
       "</style>\n",
       "<table border=\"1\" class=\"dataframe\">\n",
       "  <thead>\n",
       "    <tr style=\"text-align: right;\">\n",
       "      <th></th>\n",
       "      <th>age</th>\n",
       "      <th>hypertension</th>\n",
       "      <th>heart_disease</th>\n",
       "      <th>bmi</th>\n",
       "      <th>HbA1c_level</th>\n",
       "      <th>blood_glucose_level</th>\n",
       "      <th>diabetes</th>\n",
       "    </tr>\n",
       "  </thead>\n",
       "  <tbody>\n",
       "    <tr>\n",
       "      <th>count</th>\n",
       "      <td>100000.000000</td>\n",
       "      <td>100000.00000</td>\n",
       "      <td>100000.000000</td>\n",
       "      <td>100000.000000</td>\n",
       "      <td>100000.000000</td>\n",
       "      <td>100000.000000</td>\n",
       "      <td>100000.000000</td>\n",
       "    </tr>\n",
       "    <tr>\n",
       "      <th>mean</th>\n",
       "      <td>41.885856</td>\n",
       "      <td>0.07485</td>\n",
       "      <td>0.039420</td>\n",
       "      <td>27.320767</td>\n",
       "      <td>5.527507</td>\n",
       "      <td>138.058060</td>\n",
       "      <td>0.085000</td>\n",
       "    </tr>\n",
       "    <tr>\n",
       "      <th>std</th>\n",
       "      <td>22.516840</td>\n",
       "      <td>0.26315</td>\n",
       "      <td>0.194593</td>\n",
       "      <td>6.636783</td>\n",
       "      <td>1.070672</td>\n",
       "      <td>40.708136</td>\n",
       "      <td>0.278883</td>\n",
       "    </tr>\n",
       "    <tr>\n",
       "      <th>min</th>\n",
       "      <td>0.080000</td>\n",
       "      <td>0.00000</td>\n",
       "      <td>0.000000</td>\n",
       "      <td>10.010000</td>\n",
       "      <td>3.500000</td>\n",
       "      <td>80.000000</td>\n",
       "      <td>0.000000</td>\n",
       "    </tr>\n",
       "    <tr>\n",
       "      <th>25%</th>\n",
       "      <td>24.000000</td>\n",
       "      <td>0.00000</td>\n",
       "      <td>0.000000</td>\n",
       "      <td>23.630000</td>\n",
       "      <td>4.800000</td>\n",
       "      <td>100.000000</td>\n",
       "      <td>0.000000</td>\n",
       "    </tr>\n",
       "    <tr>\n",
       "      <th>50%</th>\n",
       "      <td>43.000000</td>\n",
       "      <td>0.00000</td>\n",
       "      <td>0.000000</td>\n",
       "      <td>27.320000</td>\n",
       "      <td>5.800000</td>\n",
       "      <td>140.000000</td>\n",
       "      <td>0.000000</td>\n",
       "    </tr>\n",
       "    <tr>\n",
       "      <th>75%</th>\n",
       "      <td>60.000000</td>\n",
       "      <td>0.00000</td>\n",
       "      <td>0.000000</td>\n",
       "      <td>29.580000</td>\n",
       "      <td>6.200000</td>\n",
       "      <td>159.000000</td>\n",
       "      <td>0.000000</td>\n",
       "    </tr>\n",
       "    <tr>\n",
       "      <th>max</th>\n",
       "      <td>80.000000</td>\n",
       "      <td>1.00000</td>\n",
       "      <td>1.000000</td>\n",
       "      <td>95.690000</td>\n",
       "      <td>9.000000</td>\n",
       "      <td>300.000000</td>\n",
       "      <td>1.000000</td>\n",
       "    </tr>\n",
       "  </tbody>\n",
       "</table>\n",
       "</div>"
      ],
      "text/plain": [
       "                 age  hypertension  heart_disease            bmi  \\\n",
       "count  100000.000000  100000.00000  100000.000000  100000.000000   \n",
       "mean       41.885856       0.07485       0.039420      27.320767   \n",
       "std        22.516840       0.26315       0.194593       6.636783   \n",
       "min         0.080000       0.00000       0.000000      10.010000   \n",
       "25%        24.000000       0.00000       0.000000      23.630000   \n",
       "50%        43.000000       0.00000       0.000000      27.320000   \n",
       "75%        60.000000       0.00000       0.000000      29.580000   \n",
       "max        80.000000       1.00000       1.000000      95.690000   \n",
       "\n",
       "         HbA1c_level  blood_glucose_level       diabetes  \n",
       "count  100000.000000        100000.000000  100000.000000  \n",
       "mean        5.527507           138.058060       0.085000  \n",
       "std         1.070672            40.708136       0.278883  \n",
       "min         3.500000            80.000000       0.000000  \n",
       "25%         4.800000           100.000000       0.000000  \n",
       "50%         5.800000           140.000000       0.000000  \n",
       "75%         6.200000           159.000000       0.000000  \n",
       "max         9.000000           300.000000       1.000000  "
      ]
     },
     "execution_count": 9,
     "metadata": {},
     "output_type": "execute_result"
    }
   ],
   "source": [
    "df.describe()"
   ]
  },
  {
   "cell_type": "markdown",
   "id": "b8fc0181",
   "metadata": {},
   "source": [
    "## Types, Shape, and Columns"
   ]
  },
  {
   "cell_type": "markdown",
   "id": "fc39016fd1f5a0aa",
   "metadata": {},
   "source": [
    "understanding our data types, shape, and columns of the dataset is essential. Knowing the number of rows and columns (shape) helps us gauge the dataset's size and complexity. Identifying data types aids with our interpreting data lets the team know if any preprocessing needs to occur to any columns before model creation. Clear column names facilitate comprehension of the data's content."
   ]
  },
  {
   "cell_type": "code",
   "execution_count": 10,
   "id": "a6422613",
   "metadata": {
    "ExecuteTime": {
     "end_time": "2024-01-27T20:28:45.485551Z",
     "start_time": "2024-01-27T20:28:45.451647Z"
    }
   },
   "outputs": [
    {
     "data": {
      "text/plain": [
       "gender                  object\n",
       "age                    float64\n",
       "hypertension             int64\n",
       "heart_disease            int64\n",
       "smoking_history         object\n",
       "bmi                    float64\n",
       "HbA1c_level            float64\n",
       "blood_glucose_level      int64\n",
       "diabetes                 int64\n",
       "dtype: object"
      ]
     },
     "execution_count": 10,
     "metadata": {},
     "output_type": "execute_result"
    }
   ],
   "source": [
    "df.dtypes"
   ]
  },
  {
   "cell_type": "code",
   "execution_count": 11,
   "id": "4ee5b54f",
   "metadata": {
    "ExecuteTime": {
     "end_time": "2024-01-27T20:28:45.486119Z",
     "start_time": "2024-01-27T20:28:45.453970Z"
    }
   },
   "outputs": [
    {
     "name": "stdout",
     "output_type": "stream",
     "text": [
      "(100000, 9)\n"
     ]
    }
   ],
   "source": [
    "print(df.shape)"
   ]
  },
  {
   "cell_type": "code",
   "execution_count": 12,
   "id": "e0339dd0",
   "metadata": {
    "ExecuteTime": {
     "end_time": "2024-01-27T20:28:45.486933Z",
     "start_time": "2024-01-27T20:28:45.457302Z"
    }
   },
   "outputs": [
    {
     "data": {
      "text/plain": [
       "Index(['gender', 'age', 'hypertension', 'heart_disease', 'smoking_history',\n",
       "       'bmi', 'HbA1c_level', 'blood_glucose_level', 'diabetes'],\n",
       "      dtype='object')"
      ]
     },
     "execution_count": 12,
     "metadata": {},
     "output_type": "execute_result"
    }
   ],
   "source": [
    "df.columns"
   ]
  },
  {
   "cell_type": "markdown",
   "id": "bdcf2c4d",
   "metadata": {},
   "source": [
    "# Data Processing "
   ]
  },
  {
   "cell_type": "markdown",
   "id": "b30dc80b49f64cae",
   "metadata": {},
   "source": [
    "## Gender"
   ]
  },
  {
   "cell_type": "markdown",
   "id": "19e9a0d8b4a04d71",
   "metadata": {},
   "source": [
    "During the graphical exploration of the dataset, it was noted that the \"gender\" feature included a third category labeled as \"other\", which affected only a small percentage of the data. For the purpose of building a prediction model based on traditional biological features of gender, the \"other\" category will be excluded from the gender feature. Subsequently, the remaining categories will be converted into dummy indicators. This process involves representing each category with binary values (0 or 1), enabling the model to effectively interpret and utilize gender information in its predictions."
   ]
  },
  {
   "cell_type": "code",
   "execution_count": 13,
   "id": "4f489a2b",
   "metadata": {
    "ExecuteTime": {
     "end_time": "2024-01-27T20:28:45.493630Z",
     "start_time": "2024-01-27T20:28:45.461881Z"
    }
   },
   "outputs": [],
   "source": [
    "df2 = df"
   ]
  },
  {
   "cell_type": "code",
   "execution_count": 14,
   "id": "bf8e3ab9",
   "metadata": {
    "ExecuteTime": {
     "end_time": "2024-01-27T20:28:45.539863Z",
     "start_time": "2024-01-27T20:28:45.466405Z"
    }
   },
   "outputs": [],
   "source": [
    "df2['gender'].replace({'Female':0,'Male':1}, inplace=True)"
   ]
  },
  {
   "cell_type": "code",
   "execution_count": 15,
   "id": "d063a569",
   "metadata": {
    "ExecuteTime": {
     "end_time": "2024-01-27T20:28:45.540885Z",
     "start_time": "2024-01-27T20:28:45.479972Z"
    }
   },
   "outputs": [
    {
     "data": {
      "text/plain": [
       "0        58552\n",
       "1        41430\n",
       "Other       18\n",
       "Name: gender, dtype: int64"
      ]
     },
     "execution_count": 15,
     "metadata": {},
     "output_type": "execute_result"
    }
   ],
   "source": [
    "df2['gender'].value_counts()"
   ]
  },
  {
   "cell_type": "code",
   "execution_count": 16,
   "id": "f38a960a",
   "metadata": {
    "ExecuteTime": {
     "end_time": "2024-01-27T20:28:45.552422Z",
     "start_time": "2024-01-27T20:28:45.486932Z"
    }
   },
   "outputs": [],
   "source": [
    "df2 = df2.drop(df2[df2['gender'] == 'Other'].index)"
   ]
  },
  {
   "cell_type": "code",
   "execution_count": 17,
   "id": "84e31d9e",
   "metadata": {
    "ExecuteTime": {
     "end_time": "2024-01-27T20:28:45.561304Z",
     "start_time": "2024-01-27T20:28:45.494685Z"
    }
   },
   "outputs": [
    {
     "data": {
      "text/plain": [
       "0    58552\n",
       "1    41430\n",
       "Name: gender, dtype: int64"
      ]
     },
     "execution_count": 17,
     "metadata": {},
     "output_type": "execute_result"
    }
   ],
   "source": [
    "df2['gender'].value_counts()"
   ]
  },
  {
   "cell_type": "code",
   "execution_count": 18,
   "id": "f18123ec",
   "metadata": {
    "ExecuteTime": {
     "end_time": "2024-01-27T20:28:45.572330Z",
     "start_time": "2024-01-27T20:28:45.500073Z"
    }
   },
   "outputs": [],
   "source": [
    "df2['gender'] = df2['gender'].astype('int64')"
   ]
  },
  {
   "cell_type": "code",
   "execution_count": 19,
   "id": "68de8baf",
   "metadata": {
    "ExecuteTime": {
     "end_time": "2024-01-27T20:28:45.573780Z",
     "start_time": "2024-01-27T20:28:45.504121Z"
    }
   },
   "outputs": [
    {
     "data": {
      "text/plain": [
       "gender                   int64\n",
       "age                    float64\n",
       "hypertension             int64\n",
       "heart_disease            int64\n",
       "smoking_history         object\n",
       "bmi                    float64\n",
       "HbA1c_level            float64\n",
       "blood_glucose_level      int64\n",
       "diabetes                 int64\n",
       "dtype: object"
      ]
     },
     "execution_count": 19,
     "metadata": {},
     "output_type": "execute_result"
    }
   ],
   "source": [
    "df2.dtypes"
   ]
  },
  {
   "cell_type": "markdown",
   "id": "a5908a16",
   "metadata": {},
   "source": [
    "## Smoking History "
   ]
  },
  {
   "cell_type": "markdown",
   "id": "1f5b418ec7a06c9c",
   "metadata": {},
   "source": [
    "The \"Smoking History\" column represents a categorical variable encompassing six distinct features, each reflecting various aspects of individuals' smoking habits. To effectively utilize this information in our predictive models, it necessitates transformation into indicator variables. "
   ]
  },
  {
   "cell_type": "code",
   "execution_count": 20,
   "id": "678e2c0b",
   "metadata": {
    "ExecuteTime": {
     "end_time": "2024-01-27T20:28:45.591831Z",
     "start_time": "2024-01-27T20:28:45.509084Z"
    }
   },
   "outputs": [
    {
     "data": {
      "text/plain": [
       "No Info        35810\n",
       "never          35092\n",
       "former          9352\n",
       "current         9286\n",
       "not current     6439\n",
       "ever            4003\n",
       "Name: smoking_history, dtype: int64"
      ]
     },
     "execution_count": 20,
     "metadata": {},
     "output_type": "execute_result"
    }
   ],
   "source": [
    "df2['smoking_history'].value_counts()"
   ]
  },
  {
   "cell_type": "code",
   "execution_count": 21,
   "id": "67b78196",
   "metadata": {
    "ExecuteTime": {
     "end_time": "2024-01-27T20:28:45.595511Z",
     "start_time": "2024-01-27T20:28:45.531145Z"
    }
   },
   "outputs": [],
   "source": [
    "df2['smoking_history'].replace({'never':0,'current':1, 'No Info':2, 'former':3, 'ever':4, 'not current': 5}, inplace=True)"
   ]
  },
  {
   "cell_type": "code",
   "execution_count": 22,
   "id": "8c73470c",
   "metadata": {
    "ExecuteTime": {
     "end_time": "2024-01-27T20:28:45.596632Z",
     "start_time": "2024-01-27T20:28:45.546938Z"
    }
   },
   "outputs": [
    {
     "data": {
      "text/plain": [
       "2    35810\n",
       "0    35092\n",
       "3     9352\n",
       "1     9286\n",
       "5     6439\n",
       "4     4003\n",
       "Name: smoking_history, dtype: int64"
      ]
     },
     "execution_count": 22,
     "metadata": {},
     "output_type": "execute_result"
    }
   ],
   "source": [
    "df2['smoking_history'].value_counts()"
   ]
  },
  {
   "cell_type": "code",
   "execution_count": 23,
   "id": "3eab81d4",
   "metadata": {
    "ExecuteTime": {
     "end_time": "2024-01-27T20:28:45.602987Z",
     "start_time": "2024-01-27T20:28:45.550191Z"
    }
   },
   "outputs": [
    {
     "data": {
      "text/plain": [
       "gender                   int64\n",
       "age                    float64\n",
       "hypertension             int64\n",
       "heart_disease            int64\n",
       "smoking_history          int64\n",
       "bmi                    float64\n",
       "HbA1c_level            float64\n",
       "blood_glucose_level      int64\n",
       "diabetes                 int64\n",
       "dtype: object"
      ]
     },
     "execution_count": 23,
     "metadata": {},
     "output_type": "execute_result"
    }
   ],
   "source": [
    "df2.dtypes"
   ]
  },
  {
   "cell_type": "markdown",
   "id": "34f352c3",
   "metadata": {},
   "source": [
    "## Type Uniformity "
   ]
  },
  {
   "cell_type": "markdown",
   "id": "a25ab51fbc8bccdf",
   "metadata": {},
   "source": [
    "In the final stage of our data processing, we aim to standardize all variable types to a consistent format of float64. This uniformity ensures compatibility and coherence across the dataset, facilitating seamless model creation and analysis. By converting all variables to float64, we establish a standardized numerical representation that simplifies data handling and enhances the interoperability of various modeling."
   ]
  },
  {
   "cell_type": "code",
   "execution_count": 24,
   "id": "6d1fb21b",
   "metadata": {
    "ExecuteTime": {
     "end_time": "2024-01-27T20:28:45.614799Z",
     "start_time": "2024-01-27T20:28:45.553625Z"
    }
   },
   "outputs": [],
   "source": [
    "df3 = df2.astype('float64')"
   ]
  },
  {
   "cell_type": "code",
   "execution_count": 25,
   "id": "f9afba79",
   "metadata": {
    "ExecuteTime": {
     "end_time": "2024-01-27T20:28:45.619165Z",
     "start_time": "2024-01-27T20:28:45.559141Z"
    }
   },
   "outputs": [
    {
     "data": {
      "text/plain": [
       "gender                 float64\n",
       "age                    float64\n",
       "hypertension           float64\n",
       "heart_disease          float64\n",
       "smoking_history        float64\n",
       "bmi                    float64\n",
       "HbA1c_level            float64\n",
       "blood_glucose_level    float64\n",
       "diabetes               float64\n",
       "dtype: object"
      ]
     },
     "execution_count": 25,
     "metadata": {},
     "output_type": "execute_result"
    }
   ],
   "source": [
    "df3.dtypes"
   ]
  },
  {
   "cell_type": "markdown",
   "id": "e40c835eac7e1591",
   "metadata": {},
   "source": [
    "# Modeling"
   ]
  },
  {
   "cell_type": "markdown",
   "id": "3a09d181",
   "metadata": {},
   "source": [
    "### Data Exploration 1 - KNN"
   ]
  },
  {
   "cell_type": "code",
   "execution_count": 26,
   "id": "116d340d",
   "metadata": {
    "ExecuteTime": {
     "end_time": "2024-01-27T20:28:45.648652Z",
     "start_time": "2024-01-27T20:28:45.599830Z"
    }
   },
   "outputs": [],
   "source": [
    "X = df3.drop('smoking_history', axis=1)\n",
    "y = df3['smoking_history']"
   ]
  },
  {
   "cell_type": "code",
   "execution_count": 27,
   "id": "b75e13ff",
   "metadata": {
    "ExecuteTime": {
     "end_time": "2024-01-27T20:28:45.676922Z",
     "start_time": "2024-01-27T20:28:45.629836Z"
    }
   },
   "outputs": [],
   "source": [
    "X_train, X_test, y_train, y_test = train_test_split(X, y, test_size=0.2, random_state=42)"
   ]
  },
  {
   "cell_type": "code",
   "execution_count": 28,
   "id": "19bc9c7e",
   "metadata": {
    "ExecuteTime": {
     "end_time": "2024-01-27T20:28:45.710650Z",
     "start_time": "2024-01-27T20:28:45.679071Z"
    }
   },
   "outputs": [],
   "source": [
    "pipeline = Pipeline([('scaler', MinMaxScaler()),('classifier', KNeighborsClassifier())])"
   ]
  },
  {
   "cell_type": "code",
   "execution_count": 29,
   "id": "6fd29522",
   "metadata": {
    "ExecuteTime": {
     "end_time": "2024-01-27T20:28:45.766781Z",
     "start_time": "2024-01-27T20:28:45.712777Z"
    }
   },
   "outputs": [
    {
     "data": {
      "text/plain": [
       "Pipeline(steps=[('scaler', MinMaxScaler()),\n",
       "                ('classifier', KNeighborsClassifier())])"
      ]
     },
     "execution_count": 29,
     "metadata": {},
     "output_type": "execute_result"
    }
   ],
   "source": [
    "pipeline.fit(X_train, y_train)"
   ]
  },
  {
   "cell_type": "code",
   "execution_count": 30,
   "id": "bf7bd62a",
   "metadata": {
    "ExecuteTime": {
     "end_time": "2024-01-27T20:28:47.149821Z",
     "start_time": "2024-01-27T20:28:45.762295Z"
    }
   },
   "outputs": [
    {
     "name": "stdout",
     "output_type": "stream",
     "text": [
      "The accuracy of the KNN classifier from the test set is: 42.16 %\n"
     ]
    }
   ],
   "source": [
    "accuracy = pipeline.score(X_test, y_test)\n",
    "\n",
    "print(\"The accuracy of the KNN classifier from the test set is: {:.2f}\".format(accuracy*100),\"%\")"
   ]
  },
  {
   "cell_type": "markdown",
   "id": "20458afc",
   "metadata": {},
   "source": [
    "### Data Exploration 2 - Linear Regression"
   ]
  },
  {
   "cell_type": "code",
   "execution_count": 31,
   "id": "808ae1d6",
   "metadata": {
    "ExecuteTime": {
     "end_time": "2024-01-27T20:28:47.151720Z",
     "start_time": "2024-01-27T20:28:47.149055Z"
    }
   },
   "outputs": [],
   "source": [
    "LinearModel = linear_model.LinearRegression()"
   ]
  },
  {
   "cell_type": "code",
   "execution_count": 32,
   "id": "0acedf60",
   "metadata": {
    "ExecuteTime": {
     "end_time": "2024-01-27T20:28:47.189190Z",
     "start_time": "2024-01-27T20:28:47.151706Z"
    }
   },
   "outputs": [
    {
     "data": {
      "text/plain": [
       "LinearRegression()"
      ]
     },
     "execution_count": 32,
     "metadata": {},
     "output_type": "execute_result"
    }
   ],
   "source": [
    "LinearModel.fit(X,y)"
   ]
  },
  {
   "cell_type": "code",
   "execution_count": 33,
   "id": "07e2eb35",
   "metadata": {
    "ExecuteTime": {
     "end_time": "2024-01-27T20:28:47.240873Z",
     "start_time": "2024-01-27T20:28:47.171720Z"
    }
   },
   "outputs": [],
   "source": [
    "model = sm.OLS(y, X).fit()"
   ]
  },
  {
   "cell_type": "code",
   "execution_count": 34,
   "id": "f1dfb7e1",
   "metadata": {
    "ExecuteTime": {
     "end_time": "2024-01-27T20:28:47.285786Z",
     "start_time": "2024-01-27T20:28:47.250725Z"
    }
   },
   "outputs": [],
   "source": [
    "prediction = model.predict(X)"
   ]
  },
  {
   "cell_type": "code",
   "execution_count": 35,
   "id": "9fbcaf49",
   "metadata": {
    "ExecuteTime": {
     "end_time": "2024-01-27T20:28:47.294698Z",
     "start_time": "2024-01-27T20:28:47.289967Z"
    },
    "scrolled": true
   },
   "outputs": [
    {
     "name": "stdout",
     "output_type": "stream",
     "text": [
      "                                 OLS Regression Results                                \n",
      "=======================================================================================\n",
      "Dep. Variable:        smoking_history   R-squared (uncentered):                   0.531\n",
      "Model:                            OLS   Adj. R-squared (uncentered):              0.531\n",
      "Method:                 Least Squares   F-statistic:                          1.417e+04\n",
      "Date:                Sun, 11 Feb 2024   Prob (F-statistic):                        0.00\n",
      "Time:                        15:37:38   Log-Likelihood:                     -1.8046e+05\n",
      "No. Observations:               99982   AIC:                                  3.609e+05\n",
      "Df Residuals:                   99974   BIC:                                  3.610e+05\n",
      "Df Model:                           8                                                  \n",
      "Covariance Type:            nonrobust                                                  \n",
      "=======================================================================================\n",
      "                          coef    std err          t      P>|t|      [0.025      0.975]\n",
      "---------------------------------------------------------------------------------------\n",
      "gender                  0.2381      0.009     25.268      0.000       0.220       0.257\n",
      "age                     0.0045      0.000     19.407      0.000       0.004       0.005\n",
      "hypertension           -0.1798      0.018     -9.728      0.000      -0.216      -0.144\n",
      "heart_disease           0.2777      0.025     11.156      0.000       0.229       0.326\n",
      "bmi                     0.0080      0.001     12.117      0.000       0.007       0.009\n",
      "HbA1c_level             0.1385      0.003     40.580      0.000       0.132       0.145\n",
      "blood_glucose_level     0.0023      0.000     20.147      0.000       0.002       0.002\n",
      "diabetes               -0.3975      0.018    -22.026      0.000      -0.433      -0.362\n",
      "==============================================================================\n",
      "Omnibus:                     5648.161   Durbin-Watson:                   2.009\n",
      "Prob(Omnibus):                  0.000   Jarque-Bera (JB):             6526.021\n",
      "Skew:                           0.616   Prob(JB):                         0.00\n",
      "Kurtosis:                       2.781   Cond. No.                         822.\n",
      "==============================================================================\n",
      "\n",
      "Notes:\n",
      "[1] R² is computed without centering (uncentered) since the model does not contain a constant.\n",
      "[2] Standard Errors assume that the covariance matrix of the errors is correctly specified.\n"
     ]
    }
   ],
   "source": [
    "print(model.summary())"
   ]
  },
  {
   "cell_type": "markdown",
   "id": "5626372c-529e-4126-b1b8-a117afe17052",
   "metadata": {
    "ExecuteTime": {
     "end_time": "2024-01-27T20:28:47.296241Z",
     "start_time": "2024-01-27T20:28:47.294015Z"
    }
   },
   "source": [
    "### Data Exploration 3 - Linear Regression"
   ]
  },
  {
   "cell_type": "markdown",
   "id": "d9d25de3-9a6b-4f8e-8822-39b35ac52c02",
   "metadata": {},
   "source": [
    "#### Dataset review"
   ]
  },
  {
   "cell_type": "code",
   "execution_count": 36,
   "id": "dfc94d1b-6b80-4e94-92d6-3ada97866876",
   "metadata": {},
   "outputs": [
    {
     "data": {
      "text/html": [
       "<div>\n",
       "<style scoped>\n",
       "    .dataframe tbody tr th:only-of-type {\n",
       "        vertical-align: middle;\n",
       "    }\n",
       "\n",
       "    .dataframe tbody tr th {\n",
       "        vertical-align: top;\n",
       "    }\n",
       "\n",
       "    .dataframe thead th {\n",
       "        text-align: right;\n",
       "    }\n",
       "</style>\n",
       "<table border=\"1\" class=\"dataframe\">\n",
       "  <thead>\n",
       "    <tr style=\"text-align: right;\">\n",
       "      <th></th>\n",
       "      <th>gender</th>\n",
       "      <th>age</th>\n",
       "      <th>hypertension</th>\n",
       "      <th>heart_disease</th>\n",
       "      <th>smoking_history</th>\n",
       "      <th>bmi</th>\n",
       "      <th>HbA1c_level</th>\n",
       "      <th>blood_glucose_level</th>\n",
       "      <th>diabetes</th>\n",
       "    </tr>\n",
       "  </thead>\n",
       "  <tbody>\n",
       "    <tr>\n",
       "      <th>0</th>\n",
       "      <td>0.0</td>\n",
       "      <td>80.0</td>\n",
       "      <td>0.0</td>\n",
       "      <td>1.0</td>\n",
       "      <td>0.0</td>\n",
       "      <td>25.19</td>\n",
       "      <td>6.6</td>\n",
       "      <td>140.0</td>\n",
       "      <td>0.0</td>\n",
       "    </tr>\n",
       "    <tr>\n",
       "      <th>1</th>\n",
       "      <td>0.0</td>\n",
       "      <td>54.0</td>\n",
       "      <td>0.0</td>\n",
       "      <td>0.0</td>\n",
       "      <td>2.0</td>\n",
       "      <td>27.32</td>\n",
       "      <td>6.6</td>\n",
       "      <td>80.0</td>\n",
       "      <td>0.0</td>\n",
       "    </tr>\n",
       "    <tr>\n",
       "      <th>2</th>\n",
       "      <td>1.0</td>\n",
       "      <td>28.0</td>\n",
       "      <td>0.0</td>\n",
       "      <td>0.0</td>\n",
       "      <td>0.0</td>\n",
       "      <td>27.32</td>\n",
       "      <td>5.7</td>\n",
       "      <td>158.0</td>\n",
       "      <td>0.0</td>\n",
       "    </tr>\n",
       "    <tr>\n",
       "      <th>3</th>\n",
       "      <td>0.0</td>\n",
       "      <td>36.0</td>\n",
       "      <td>0.0</td>\n",
       "      <td>0.0</td>\n",
       "      <td>1.0</td>\n",
       "      <td>23.45</td>\n",
       "      <td>5.0</td>\n",
       "      <td>155.0</td>\n",
       "      <td>0.0</td>\n",
       "    </tr>\n",
       "    <tr>\n",
       "      <th>4</th>\n",
       "      <td>1.0</td>\n",
       "      <td>76.0</td>\n",
       "      <td>1.0</td>\n",
       "      <td>1.0</td>\n",
       "      <td>1.0</td>\n",
       "      <td>20.14</td>\n",
       "      <td>4.8</td>\n",
       "      <td>155.0</td>\n",
       "      <td>0.0</td>\n",
       "    </tr>\n",
       "  </tbody>\n",
       "</table>\n",
       "</div>"
      ],
      "text/plain": [
       "   gender   age  hypertension  heart_disease  smoking_history    bmi  \\\n",
       "0     0.0  80.0           0.0            1.0              0.0  25.19   \n",
       "1     0.0  54.0           0.0            0.0              2.0  27.32   \n",
       "2     1.0  28.0           0.0            0.0              0.0  27.32   \n",
       "3     0.0  36.0           0.0            0.0              1.0  23.45   \n",
       "4     1.0  76.0           1.0            1.0              1.0  20.14   \n",
       "\n",
       "   HbA1c_level  blood_glucose_level  diabetes  \n",
       "0          6.6                140.0       0.0  \n",
       "1          6.6                 80.0       0.0  \n",
       "2          5.7                158.0       0.0  \n",
       "3          5.0                155.0       0.0  \n",
       "4          4.8                155.0       0.0  "
      ]
     },
     "execution_count": 36,
     "metadata": {},
     "output_type": "execute_result"
    }
   ],
   "source": [
    "df3.head()"
   ]
  },
  {
   "cell_type": "markdown",
   "id": "1807177e-f3d3-49a2-b25b-083d56b011eb",
   "metadata": {},
   "source": [
    "#### Variable Assignment"
   ]
  },
  {
   "cell_type": "code",
   "execution_count": 37,
   "id": "5bd739a8-0746-4145-a106-6096340f44d7",
   "metadata": {},
   "outputs": [],
   "source": [
    "X2 = df3.drop('diabetes', axis=1)\n",
    "y2 = df3['diabetes']"
   ]
  },
  {
   "cell_type": "markdown",
   "id": "20584dcd-9849-4bdc-806f-f57065c065d7",
   "metadata": {},
   "source": [
    "#### Data Training"
   ]
  },
  {
   "cell_type": "code",
   "execution_count": null,
   "id": "9a42ace1-d25f-438b-a2ba-164a0f3dc8fb",
   "metadata": {},
   "outputs": [],
   "source": [
    "X_train, X_test, y_train, y_test = train_test_split(X2, y2, test_size=0.2, random_state=42)"
   ]
  },
  {
   "cell_type": "markdown",
   "id": "1ceeb00e-7322-4b5c-a8c2-8f3becb3883d",
   "metadata": {},
   "source": [
    "#### Linear Model"
   ]
  },
  {
   "cell_type": "code",
   "execution_count": 38,
   "id": "5eac2906-c2a3-4e61-8aea-119e586995f0",
   "metadata": {},
   "outputs": [],
   "source": [
    "LinearModel2 = linear_model.LinearRegression()"
   ]
  },
  {
   "cell_type": "code",
   "execution_count": 39,
   "id": "91a966da-d309-4999-9ec3-149ed96a9141",
   "metadata": {},
   "outputs": [
    {
     "data": {
      "text/plain": [
       "LinearRegression()"
      ]
     },
     "execution_count": 39,
     "metadata": {},
     "output_type": "execute_result"
    }
   ],
   "source": [
    "LinearModel2.fit(X2,y2)"
   ]
  },
  {
   "cell_type": "markdown",
   "id": "d25e6b99-8bc2-44ed-8730-49b00379ad51",
   "metadata": {},
   "source": [
    "#### Data Fit"
   ]
  },
  {
   "cell_type": "code",
   "execution_count": 40,
   "id": "41158433-630c-4659-8527-0fd80e6ece89",
   "metadata": {},
   "outputs": [],
   "source": [
    "model2 = sm.OLS(y2, X2).fit()"
   ]
  },
  {
   "cell_type": "code",
   "execution_count": 41,
   "id": "3d5cc250-23f3-491a-9480-7b0874b0cffc",
   "metadata": {},
   "outputs": [],
   "source": [
    "prediction = model2.predict(X2)"
   ]
  },
  {
   "cell_type": "markdown",
   "id": "71b30b42-0b1a-4757-81db-4c257a6a21c8",
   "metadata": {},
   "source": [
    "#### Data Output"
   ]
  },
  {
   "cell_type": "code",
   "execution_count": 42,
   "id": "cf7980c2-0c5e-4089-9b78-f8f518f1c3b8",
   "metadata": {},
   "outputs": [
    {
     "name": "stdout",
     "output_type": "stream",
     "text": [
      "                                 OLS Regression Results                                \n",
      "=======================================================================================\n",
      "Dep. Variable:               diabetes   R-squared (uncentered):                   0.222\n",
      "Model:                            OLS   Adj. R-squared (uncentered):              0.222\n",
      "Method:                 Least Squares   F-statistic:                              3563.\n",
      "Date:                Sun, 11 Feb 2024   Prob (F-statistic):                        0.00\n",
      "Time:                        15:43:45   Log-Likelihood:                         -6102.7\n",
      "No. Observations:               99982   AIC:                                  1.222e+04\n",
      "Df Residuals:                   99974   BIC:                                  1.230e+04\n",
      "Df Model:                           8                                                  \n",
      "Covariance Type:            nonrobust                                                  \n",
      "=======================================================================================\n",
      "                          coef    std err          t      P>|t|      [0.025      0.975]\n",
      "---------------------------------------------------------------------------------------\n",
      "gender                 -0.0149      0.002     -9.032      0.000      -0.018      -0.012\n",
      "age                     0.0012   4.04e-05     30.666      0.000       0.001       0.001\n",
      "hypertension            0.1504      0.003     47.045      0.000       0.144       0.157\n",
      "heart_disease           0.1680      0.004     38.883      0.000       0.160       0.177\n",
      "smoking_history        -0.0121      0.001    -22.026      0.000      -0.013      -0.011\n",
      "bmi                    -0.0054      0.000    -47.459      0.000      -0.006      -0.005\n",
      "HbA1c_level             0.0064      0.001     10.622      0.000       0.005       0.008\n",
      "blood_glucose_level     0.0012   1.93e-05     64.402      0.000       0.001       0.001\n",
      "==============================================================================\n",
      "Omnibus:                    52023.589   Durbin-Watson:                   1.999\n",
      "Prob(Omnibus):                  0.000   Jarque-Bera (JB):           272411.050\n",
      "Skew:                           2.610   Prob(JB):                         0.00\n",
      "Kurtosis:                       9.175   Cond. No.                         812.\n",
      "==============================================================================\n",
      "\n",
      "Notes:\n",
      "[1] R² is computed without centering (uncentered) since the model does not contain a constant.\n",
      "[2] Standard Errors assume that the covariance matrix of the errors is correctly specified.\n"
     ]
    }
   ],
   "source": [
    "print(model2.summary())"
   ]
  },
  {
   "cell_type": "code",
   "execution_count": null,
   "id": "0e076f18-d839-4c1f-9e8b-3b816a47f849",
   "metadata": {},
   "outputs": [],
   "source": []
  }
 ],
 "metadata": {
  "kernelspec": {
   "display_name": "Python 3 (ipykernel)",
   "language": "python",
   "name": "python3"
  },
  "language_info": {
   "codemirror_mode": {
    "name": "ipython",
    "version": 3
   },
   "file_extension": ".py",
   "mimetype": "text/x-python",
   "name": "python",
   "nbconvert_exporter": "python",
   "pygments_lexer": "ipython3",
   "version": "3.9.13"
  }
 },
 "nbformat": 4,
 "nbformat_minor": 5
}
